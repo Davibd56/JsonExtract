{
 "cells": [
  {
   "cell_type": "code",
   "execution_count": 2,
   "id": "96a01d6c",
   "metadata": {},
   "outputs": [],
   "source": [
    "import csv\n",
    "import json\n",
    "import pandas as pd\n",
    "\n",
    "def extract_timetable(file_path):\n",
    "    with open(file_path, 'r') as csvfile:\n",
    "        csvreader = csv.reader(csvfile)\n",
    "        lecturer = []\n",
    "        course_id = []\n",
    "        course_name = []\n",
    "        hours = []\n",
    "        start_time = []\n",
    "        end_time = []\n",
    "        \n",
    "        next(csvreader) # skip the header\n",
    "        for row in csvreader:\n",
    "            lecturer.append(row[0])\n",
    "            course_id.append(row[1])\n",
    "            course_name.append(row[2])\n",
    "            hours.append(row[3])\n",
    "            start_time.append(row[4])\n",
    "            end_time.append(row[5])\n",
    "            \n",
    "        timetable_data = {\n",
    "            'lecturer': lecturer,\n",
    "            'course_id': course_id,\n",
    "            'course_name': course_name,\n",
    "            'hours': hours,\n",
    "            'start_time': start_time,\n",
    "            'end_time': end_time\n",
    "        }\n",
    "        \n",
    "        df = pd.DataFrame(timetable_data)\n",
    "        return df\n",
    "\n",
    "def convert_to_json(df, output_file):\n",
    "    df.to_json(output_file, orient='records', lines=True)\n",
    "\n",
    "input_file = 'timetable.csv.csv'\n",
    "output_file = 'timetable.json'\n",
    "\n",
    "df = extract_timetable(input_file)\n",
    "convert_to_json(df, output_file)"
   ]
  },
  {
   "cell_type": "code",
   "execution_count": null,
   "id": "ae75e19a",
   "metadata": {},
   "outputs": [],
   "source": []
  }
 ],
 "metadata": {
  "kernelspec": {
   "display_name": "Python 3 (ipykernel)",
   "language": "python",
   "name": "python3"
  },
  "language_info": {
   "codemirror_mode": {
    "name": "ipython",
    "version": 3
   },
   "file_extension": ".py",
   "mimetype": "text/x-python",
   "name": "python",
   "nbconvert_exporter": "python",
   "pygments_lexer": "ipython3",
   "version": "3.11.5"
  }
 },
 "nbformat": 4,
 "nbformat_minor": 5
}
